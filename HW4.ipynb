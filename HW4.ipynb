{
 "cells": [
  {
   "cell_type": "code",
   "execution_count": 39,
   "metadata": {},
   "outputs": [],
   "source": [
    "class Player(object):\n",
    "    def __init__(self, Name):\n",
    "        self.hand = []\n",
    "        self.name = Name\n",
    "        self.points = 0\n",
    "        #self.deck = Deck()\n",
    "        \n",
    "    def calculatePoints(self):\n",
    "        points = 0\n",
    "        for card in self.hand:\n",
    "            temp = card\n",
    "            points += int(temp)\n",
    "        #print(temp)\n",
    "        return points\n",
    "    \n",
    "    def draw(self):\n",
    "        self.hand.append(random.randrange(1,11,1))\n",
    "        "
   ]
  },
  {
   "cell_type": "code",
   "execution_count": 40,
   "metadata": {},
   "outputs": [],
   "source": [
    "#not used\n",
    "class Deck():\n",
    "    def __init__(self):\n",
    "        self.deck = ['1','2','3','4','5','6','7','8','9','10']\n",
    "         "
   ]
  },
  {
   "cell_type": "code",
   "execution_count": 44,
   "metadata": {},
   "outputs": [],
   "source": [
    "import random\n",
    "\n",
    "class Game():\n",
    "    \n",
    "    def __init__(self):\n",
    "        self.player = Player('player')\n",
    "        self.dealer = Player('dealer')\n",
    "        self.terminal = False\n",
    "        #start the game with one card for both player and dealer\n",
    "        self.player.draw()\n",
    "        self.dealer.draw()\n",
    "        \n",
    "        self.playerpoints = self.player.calculatePoints()\n",
    "        self.dealerpoints = self.dealer.calculatePoints()\n",
    "   \n",
    "        \n",
    "    def play(game,playerpoints,dealerpoints,action):\n",
    "        temp1 = playerpoints\n",
    "        temp2 = dealerpoints\n",
    "        state = 0\n",
    "        reward = None\n",
    "        if action == 1:\n",
    "            #game.player.hand.append(game.draw())\n",
    "            game.player.draw()\n",
    "            temp1 =+ game.player.calculatePoints()\n",
    "            #print('player',temp1)\n",
    "            # if player is bust \n",
    "            if temp1 > 21:\n",
    "                reward = -10\n",
    "                game.terminal = True\n",
    "                temp1 = playerpoints\n",
    "            else:\n",
    "                reward = 1\n",
    "                game.terminal = False\n",
    "        if action == 0:\n",
    "                while dealerpoints < 17:\n",
    "                    game.dealer.draw()\n",
    "                    temp2 = game.dealer.calculatePoints()\n",
    "                    #print('dealer',dealerpoints)\n",
    "                    if temp2 > 21:\n",
    "                        reward = 1\n",
    "                        game.terminal = True\n",
    "                        return playerpoints, reward\n",
    "                    else:\n",
    "                        dealerpoints = temp2\n",
    "                        if playerpoints < dealerpoints:\n",
    "                            reward = -1\n",
    "                        elif playerpoints == dealerpoints:\n",
    "                            reward = 0\n",
    "                        elif playerpoints > dealerpoints:\n",
    "                            reward = 2\n",
    "                    game.terminal = True\n",
    "        #print('final',reward)\n",
    "        return temp1 , reward\n",
    "            "
   ]
  },
  {
   "cell_type": "code",
   "execution_count": 47,
   "metadata": {},
   "outputs": [],
   "source": [
    "from collections import defaultdict\n",
    "import numpy as np\n",
    "import pandas as pd\n",
    "import matplotlib.pyplot as plt\n",
    "\n",
    "def random_policy():\n",
    "    return 1 if random.random() < 0.5 else 0\n",
    "\n",
    "def QL(iterations):\n",
    "\n",
    "    # number of wins\n",
    "    g = 0\n",
    "    wins = 0\n",
    "    winrecord = []\n",
    "    action_size = 2\n",
    "    state_size = 210\n",
    "    #initialized Q table withe all zeros\n",
    "    Q = np.zeros((state_size, action_size))\n",
    "    #assign states with row_name to the q_table with the format 'playerpoints,dealershowing'\n",
    "    row_name = []\n",
    "    for i in range(1,22):\n",
    "        for j in range(1,11):\n",
    "            row_name.append(\"{},{}\".format(i,j))\n",
    "    q_table = pd.DataFrame(Q,index = row_name)\n",
    "    \n",
    "    alpha = 0.1\n",
    "    gamma = 1\n",
    "    epsilon = 0.1\n",
    "\n",
    "\n",
    "    for j in range(iterations):\n",
    "        # create a new random starting state\n",
    "        #print('new game')\n",
    "        game = Game()\n",
    "        player = game.playerpoints\n",
    "        dealer = game.dealerpoints\n",
    "        action = None\n",
    "        reward = None\n",
    "        # play a round\n",
    "        observed_keys = []\n",
    "        playerstate = player\n",
    "        dealerstate = dealer\n",
    "        while not game.terminal:\n",
    "            # find an action defined by the policy\n",
    "            if random.uniform(0, 1) < epsilon:\n",
    "                action = random_policy()\n",
    "                #print('action',action)\n",
    "            else:\n",
    "                action = q_table.loc[str(playerstate)+','+str(dealerstate)].idxmax()\n",
    "\n",
    "            # take a step\n",
    "            #print('step, action',action)\n",
    "            #reward = Game.play(game, player, dealer, action, reward)\n",
    "            nextplayerstate,reward = Game.play(game, player, dealer, action)\n",
    "            \n",
    "            #print('action',action)\n",
    "            old_value = q_table.loc[str(playerstate)+','+str(dealerstate)][action]\n",
    "            #print('old',old_value)\n",
    "            next_max = np.max(q_table.loc[str(nextplayerstate)+','+str(dealerstate)])\n",
    "            #print('nex',next_max)\n",
    "            \n",
    "            new_value = (1 - alpha) * old_value + alpha * (reward + gamma * next_max)\n",
    "            #print('reward',reward,new_value)\n",
    "            q_table.loc[str(playerstate)+','+str(dealerstate)][action] = new_value\n",
    "            \n",
    "            playerstate = nextplayerstate\n",
    "        # we have reached an end of episode\n",
    "        \n",
    "        if j > iterations -25:\n",
    "            g +=1\n",
    "            if reward ==1:\n",
    "                wins +=1\n",
    "            winrecord.append(wins/g)\n",
    "        \n",
    "        \n",
    "    #rint(winrecord)\n",
    "    \n",
    "    return q_table,winrecord\n",
    "    \n",
    "       \n"
   ]
  },
  {
   "cell_type": "code",
   "execution_count": null,
   "metadata": {},
   "outputs": [],
   "source": [
    "g.play(12,1,1,0)\n"
   ]
  },
  {
   "cell_type": "code",
   "execution_count": null,
   "metadata": {},
   "outputs": [],
   "source": [
    "g.play(18,1,0,0)"
   ]
  },
  {
   "cell_type": "code",
   "execution_count": 48,
   "metadata": {},
   "outputs": [
    {
     "name": "stdout",
     "output_type": "stream",
     "text": [
      "game\n",
      "game\n",
      "game\n",
      "game\n",
      "game\n",
      "game\n",
      "game\n",
      "game\n",
      "game\n",
      "game\n",
      "game\n",
      "game\n",
      "game\n",
      "game\n",
      "game\n",
      "game\n",
      "game\n",
      "game\n",
      "game\n",
      "game\n",
      "game\n",
      "game\n",
      "game\n",
      "game\n"
     ]
    },
    {
     "data": {
      "text/html": [
       "<div>\n",
       "<style scoped>\n",
       "    .dataframe tbody tr th:only-of-type {\n",
       "        vertical-align: middle;\n",
       "    }\n",
       "\n",
       "    .dataframe tbody tr th {\n",
       "        vertical-align: top;\n",
       "    }\n",
       "\n",
       "    .dataframe thead th {\n",
       "        text-align: right;\n",
       "    }\n",
       "</style>\n",
       "<table border=\"1\" class=\"dataframe\">\n",
       "  <thead>\n",
       "    <tr style=\"text-align: right;\">\n",
       "      <th></th>\n",
       "      <th>0</th>\n",
       "      <th>1</th>\n",
       "    </tr>\n",
       "  </thead>\n",
       "  <tbody>\n",
       "    <tr>\n",
       "      <td>1,1</td>\n",
       "      <td>2.008789</td>\n",
       "      <td>6.621296</td>\n",
       "    </tr>\n",
       "    <tr>\n",
       "      <td>1,2</td>\n",
       "      <td>0.883994</td>\n",
       "      <td>6.737646</td>\n",
       "    </tr>\n",
       "    <tr>\n",
       "      <td>1,3</td>\n",
       "      <td>0.677742</td>\n",
       "      <td>6.754513</td>\n",
       "    </tr>\n",
       "    <tr>\n",
       "      <td>1,4</td>\n",
       "      <td>2.119100</td>\n",
       "      <td>6.800963</td>\n",
       "    </tr>\n",
       "    <tr>\n",
       "      <td>1,5</td>\n",
       "      <td>1.365806</td>\n",
       "      <td>6.004774</td>\n",
       "    </tr>\n",
       "    <tr>\n",
       "      <td>...</td>\n",
       "      <td>...</td>\n",
       "      <td>...</td>\n",
       "    </tr>\n",
       "    <tr>\n",
       "      <td>21,6</td>\n",
       "      <td>4.267025</td>\n",
       "      <td>-0.915722</td>\n",
       "    </tr>\n",
       "    <tr>\n",
       "      <td>21,7</td>\n",
       "      <td>2.469492</td>\n",
       "      <td>-1.761236</td>\n",
       "    </tr>\n",
       "    <tr>\n",
       "      <td>21,8</td>\n",
       "      <td>0.993406</td>\n",
       "      <td>0.000000</td>\n",
       "    </tr>\n",
       "    <tr>\n",
       "      <td>21,9</td>\n",
       "      <td>2.370235</td>\n",
       "      <td>-0.838162</td>\n",
       "    </tr>\n",
       "    <tr>\n",
       "      <td>21,10</td>\n",
       "      <td>2.890508</td>\n",
       "      <td>-1.494666</td>\n",
       "    </tr>\n",
       "  </tbody>\n",
       "</table>\n",
       "<p>210 rows × 2 columns</p>\n",
       "</div>"
      ],
      "text/plain": [
       "              0         1\n",
       "1,1    2.008789  6.621296\n",
       "1,2    0.883994  6.737646\n",
       "1,3    0.677742  6.754513\n",
       "1,4    2.119100  6.800963\n",
       "1,5    1.365806  6.004774\n",
       "...         ...       ...\n",
       "21,6   4.267025 -0.915722\n",
       "21,7   2.469492 -1.761236\n",
       "21,8   0.993406  0.000000\n",
       "21,9   2.370235 -0.838162\n",
       "21,10  2.890508 -1.494666\n",
       "\n",
       "[210 rows x 2 columns]"
      ]
     },
     "execution_count": 48,
     "metadata": {},
     "output_type": "execute_result"
    }
   ],
   "source": [
    "Q_table,winrecord = QL(10000)\n",
    "Q_table"
   ]
  },
  {
   "cell_type": "code",
   "execution_count": null,
   "metadata": {},
   "outputs": [],
   "source": [
    "Q_table2,winrecord2 = QL(10000)"
   ]
  },
  {
   "cell_type": "code",
   "execution_count": 49,
   "metadata": {},
   "outputs": [
    {
     "data": {
      "text/plain": [
       "[<matplotlib.lines.Line2D at 0x2376e91348>]"
      ]
     },
     "execution_count": 49,
     "metadata": {},
     "output_type": "execute_result"
    },
    {
     "data": {
      "image/png": "[encoded data removed]",
      "text/plain": [
       "<Figure size 432x288 with 1 Axes>"
      ]
     },
     "metadata": {
      "needs_background": "light"
     },
     "output_type": "display_data"
    }
   ],
   "source": [
    "plt.plot(winrecord)"
   ]
  },
  {
   "cell_type": "code",
   "execution_count": null,
   "metadata": {
    "scrolled": true
   },
   "outputs": [],
   "source": [
    "plt.plot(winr25)"
   ]
  },
  {
   "cell_type": "code",
   "execution_count": 68,
   "metadata": {},
   "outputs": [],
   "source": [
    "#dynamic 𝛼 and epsilon\n",
    "import math\n",
    "\n",
    "def QL1(iterations,a,e):\n",
    "\n",
    "    # number of wins\n",
    "    g = 0\n",
    "    wins = 0\n",
    "    record = []\n",
    "    winrate = []\n",
    "    action_size = 2\n",
    "    state_size = 210\n",
    "    #initialized Q table withe all zeros\n",
    "    Q = np.zeros((state_size, action_size))\n",
    "    #assign states with row_name to the q_table with the format 'playerpoints,dealershowing'\n",
    "    row_name = []\n",
    "    for i in range(1,22):\n",
    "        for j in range(1,11):\n",
    "            row_name.append(\"{},{}\".format(i,j))\n",
    "    q_table = pd.DataFrame(Q,index = row_name)\n",
    "    \n",
    "    #alpha = 0.1\n",
    "    gamma = 1\n",
    "    #epsilon = 0.1\n",
    "    #epsilon = e\n",
    "\n",
    "    for j in range(iterations):\n",
    "        # create a new random starting state\n",
    "        #print('new game')\n",
    "        game = Game()\n",
    "        player = game.playerpoints\n",
    "        dealer = game.dealerpoints\n",
    "        action = None\n",
    "        reward = None\n",
    "        playerstate = player\n",
    "        dealerstate = dealer\n",
    "        \n",
    "        #alpha decays with the increase of iterations\n",
    "        #alpha = a*(j+1)*0.01\n",
    "        #epsilon = e*(j+1)*0.00001\n",
    "        alpha = a*math.exp(-0.1*(j+1)/500)\n",
    "        epsilon = e*math.exp(-(j+1)/2000)\n",
    "        \n",
    "        while not game.terminal:\n",
    "            # find an action defined by the policy\n",
    "            if random.uniform(0, 1) < epsilon:\n",
    "                action = random_policy()\n",
    "                #print('randaction',action)\n",
    "            else:\n",
    "                #print('action','playerss',playerstate)\n",
    "                action = q_table.loc[str(playerstate)+','+str(dealerstate)].idxmax()\n",
    "            # take a step\n",
    "            #print('action',action)\n",
    "            nextplayerstate,reward = Game.play(game,player, dealer, action)\n",
    "            \n",
    "            old_value = q_table.loc[str(playerstate)+','+str(dealerstate)][action]\n",
    "            #print('old',old_value)\n",
    "            next_max = np.max(q_table.loc[str(nextplayerstate)+','+str(dealerstate)])\n",
    "            #print('nex',)\n",
    "            new_value = (1 - alpha) * old_value + alpha * (reward + gamma * next_max)\n",
    "            #print('reward',reward,new_value)\n",
    "            q_table.loc[str(playerstate)+','+str(dealerstate)][action] = new_value\n",
    "            playerstate = nextplayerstate\n",
    "            \n",
    "            #print('ps,nps',playerstate,nextplayerstate)\n",
    "            \n",
    "        if j > iterations -25:\n",
    "            g +=1\n",
    "            if reward ==1:\n",
    "                wins +=1\n",
    "            record.append(reward)\n",
    "            winrate.append(wins/g)\n",
    "        \n",
    "    #rint(winrecord)\n",
    "    \n",
    "    return q_table,winrate,record\n",
    "    "
   ]
  },
  {
   "cell_type": "code",
   "execution_count": 71,
   "metadata": {},
   "outputs": [
    {
     "name": "stdout",
     "output_type": "stream",
     "text": [
      "game\n",
      "game\n",
      "game\n",
      "game\n",
      "game\n",
      "game\n",
      "game\n",
      "game\n",
      "game\n",
      "game\n",
      "game\n",
      "game\n",
      "game\n",
      "game\n",
      "game\n",
      "game\n",
      "game\n",
      "game\n",
      "game\n",
      "game\n",
      "game\n",
      "game\n",
      "game\n",
      "game\n"
     ]
    }
   ],
   "source": [
    "Q_table1,winrate1 = QL(10000)"
   ]
  },
  {
   "cell_type": "code",
   "execution_count": 72,
   "metadata": {},
   "outputs": [
    {
     "data": {
      "text/plain": [
       "[<matplotlib.lines.Line2D at 0x237854a388>]"
      ]
     },
     "execution_count": 72,
     "metadata": {},
     "output_type": "execute_result"
    },
    {
     "data": {
      "image/png": "[encoded data removed]",
      "text/plain": [
       "<Figure size 432x288 with 1 Axes>"
      ]
     },
     "metadata": {
      "needs_background": "light"
     },
     "output_type": "display_data"
    }
   ],
   "source": [
    "plt.plot(winrate1)"
   ]
  },
  {
   "cell_type": "code",
   "execution_count": 67,
   "metadata": {},
   "outputs": [
    {
     "data": {
      "text/plain": [
       "[<matplotlib.lines.Line2D at 0x237847e908>]"
      ]
     },
     "execution_count": 67,
     "metadata": {},
     "output_type": "execute_result"
    },
    {
     "data": {
      "image/png": "[encoded data removed]",
      "text/plain": [
       "<Figure size 432x288 with 1 Axes>"
      ]
     },
     "metadata": {
      "needs_background": "light"
     },
     "output_type": "display_data"
    }
   ],
   "source": [
    "win3 = winrate1\n",
    "plt.plot(winrate1)"
   ]
  },
  {
   "cell_type": "code",
   "execution_count": 56,
   "metadata": {},
   "outputs": [
    {
     "data": {
      "text/html": [
       "<div>\n",
       "<style scoped>\n",
       "    .dataframe tbody tr th:only-of-type {\n",
       "        vertical-align: middle;\n",
       "    }\n",
       "\n",
       "    .dataframe tbody tr th {\n",
       "        vertical-align: top;\n",
       "    }\n",
       "\n",
       "    .dataframe thead th {\n",
       "        text-align: right;\n",
       "    }\n",
       "</style>\n",
       "<table border=\"1\" class=\"dataframe\">\n",
       "  <thead>\n",
       "    <tr style=\"text-align: right;\">\n",
       "      <th></th>\n",
       "      <th>0</th>\n",
       "      <th>1</th>\n",
       "    </tr>\n",
       "  </thead>\n",
       "  <tbody>\n",
       "    <tr>\n",
       "      <td>1,1</td>\n",
       "      <td>0.290274</td>\n",
       "      <td>2.995714</td>\n",
       "    </tr>\n",
       "    <tr>\n",
       "      <td>1,2</td>\n",
       "      <td>0.031045</td>\n",
       "      <td>3.059021</td>\n",
       "    </tr>\n",
       "    <tr>\n",
       "      <td>1,3</td>\n",
       "      <td>0.341567</td>\n",
       "      <td>2.847335</td>\n",
       "    </tr>\n",
       "    <tr>\n",
       "      <td>1,4</td>\n",
       "      <td>0.113560</td>\n",
       "      <td>3.179667</td>\n",
       "    </tr>\n",
       "    <tr>\n",
       "      <td>1,5</td>\n",
       "      <td>-0.012399</td>\n",
       "      <td>3.043835</td>\n",
       "    </tr>\n",
       "    <tr>\n",
       "      <td>...</td>\n",
       "      <td>...</td>\n",
       "      <td>...</td>\n",
       "    </tr>\n",
       "    <tr>\n",
       "      <td>21,6</td>\n",
       "      <td>0.518496</td>\n",
       "      <td>-1.015434</td>\n",
       "    </tr>\n",
       "    <tr>\n",
       "      <td>21,7</td>\n",
       "      <td>1.014349</td>\n",
       "      <td>-3.043285</td>\n",
       "    </tr>\n",
       "    <tr>\n",
       "      <td>21,8</td>\n",
       "      <td>0.640477</td>\n",
       "      <td>-0.880338</td>\n",
       "    </tr>\n",
       "    <tr>\n",
       "      <td>21,9</td>\n",
       "      <td>0.430938</td>\n",
       "      <td>-2.682823</td>\n",
       "    </tr>\n",
       "    <tr>\n",
       "      <td>21,10</td>\n",
       "      <td>0.278773</td>\n",
       "      <td>-2.534949</td>\n",
       "    </tr>\n",
       "  </tbody>\n",
       "</table>\n",
       "<p>210 rows × 2 columns</p>\n",
       "</div>"
      ],
      "text/plain": [
       "              0         1\n",
       "1,1    0.290274  2.995714\n",
       "1,2    0.031045  3.059021\n",
       "1,3    0.341567  2.847335\n",
       "1,4    0.113560  3.179667\n",
       "1,5   -0.012399  3.043835\n",
       "...         ...       ...\n",
       "21,6   0.518496 -1.015434\n",
       "21,7   1.014349 -3.043285\n",
       "21,8   0.640477 -0.880338\n",
       "21,9   0.430938 -2.682823\n",
       "21,10  0.278773 -2.534949\n",
       "\n",
       "[210 rows x 2 columns]"
      ]
     },
     "execution_count": 56,
     "metadata": {},
     "output_type": "execute_result"
    }
   ],
   "source": [
    "Q_table1"
   ]
  },
  {
   "cell_type": "code",
   "execution_count": null,
   "metadata": {},
   "outputs": [],
   "source": [
    "from mpl_toolkits import mplot3d\n",
    "\n",
    "df = Q_table\n",
    "xdata=[]\n",
    "ydata=[]\n",
    "zdata=[]\n",
    "for i in range(1,22):\n",
    "    for j in range(1,11):\n",
    "        xdata.append(j)\n",
    "        ydata.append(i)\n",
    "    \n",
    "#for a in range(len(df)):\n",
    "#    zdata.append(df.max())\n",
    "zdata = df.max(axis=1)\n",
    "ax = plt.axes(projection='3d')\n",
    "\n",
    "ax.plot3D(xdata, ydata, zdata)\n",
    "ax.set_xlabel('dealershowing')\n",
    "ax.set_ylabel('playersum')\n",
    "ax.set_zlabel('V*(s)')"
   ]
  },
  {
   "cell_type": "code",
   "execution_count": null,
   "metadata": {},
   "outputs": [],
   "source": [
    "a= df.loc['1,1']\n",
    "ps = 12\n",
    "ds = 10\n",
    "st = str(ps)+','+str(ds)\n",
    "#df.loc[st] = [0,0]\n",
    "Q_table1.loc[st].idxmax()"
   ]
  },
  {
   "cell_type": "code",
   "execution_count": 14,
   "metadata": {},
   "outputs": [
    {
     "data": {
      "text/plain": [
       "0.006734578867688945"
      ]
     },
     "execution_count": 14,
     "metadata": {},
     "output_type": "execute_result"
    }
   ],
   "source": [
    "1*math.exp(-(10000+1)/2000)\n"
   ]
  },
  {
   "cell_type": "code",
   "execution_count": null,
   "metadata": {},
   "outputs": [],
   "source": [
    "df"
   ]
  },
  {
   "cell_type": "code",
   "execution_count": null,
   "metadata": {},
   "outputs": [],
   "source": [
    "game = Game()"
   ]
  },
  {
   "cell_type": "code",
   "execution_count": null,
   "metadata": {},
   "outputs": [],
   "source": [
    "g.play(g,7,10,1)"
   ]
  },
  {
   "cell_type": "code",
   "execution_count": null,
   "metadata": {},
   "outputs": [],
   "source": [
    "Game.play(game, 6, 10, 1)"
   ]
  },
  {
   "cell_type": "code",
   "execution_count": null,
   "metadata": {},
   "outputs": [],
   "source": []
  }
 ],
 "metadata": {
  "kernelspec": {
   "display_name": "Python 3",
   "language": "python",
   "name": "python3"
  },
  "language_info": {
   "codemirror_mode": {
    "name": "ipython",
    "version": 3
   },
   "file_extension": ".py",
   "mimetype": "text/x-python",
   "name": "python",
   "nbconvert_exporter": "python",
   "pygments_lexer": "ipython3",
   "version": "3.7.4"
  }
 },
 "nbformat": 4,
 "nbformat_minor": 2
}
